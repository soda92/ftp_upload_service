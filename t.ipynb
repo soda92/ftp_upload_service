{
 "cells": [
  {
   "cell_type": "code",
   "execution_count": 1,
   "id": "cc268df7-bc10-463f-9537-5d32285ff1a1",
   "metadata": {},
   "outputs": [],
   "source": [
    "import datetime"
   ]
  },
  {
   "cell_type": "code",
   "execution_count": 2,
   "id": "e5d57a76-f314-4a6a-bf1a-1535405b07e7",
   "metadata": {},
   "outputs": [],
   "source": [
    "now = datetime.datetime.now()"
   ]
  },
  {
   "cell_type": "code",
   "execution_count": 3,
   "id": "e2503f53-cddb-4271-802f-ec650c34bc66",
   "metadata": {},
   "outputs": [
    {
     "data": {
      "text/plain": [
       "datetime.datetime(2021, 11, 18, 9, 30, 40, 629792)"
      ]
     },
     "execution_count": 3,
     "metadata": {},
     "output_type": "execute_result"
    }
   ],
   "source": [
    "now"
   ]
  },
  {
   "cell_type": "code",
   "execution_count": 4,
   "id": "7707f5b3-4ad8-489d-96fb-79ea44b87f7b",
   "metadata": {},
   "outputs": [],
   "source": [
    "start = datetime.datetime(now.year, now.month, now.day, 3,0,0)"
   ]
  },
  {
   "cell_type": "code",
   "execution_count": 5,
   "id": "0005d575-d7da-4b7f-88cc-0d19f78ca41f",
   "metadata": {},
   "outputs": [
    {
     "data": {
      "text/plain": [
       "datetime.datetime(2021, 11, 18, 3, 0)"
      ]
     },
     "execution_count": 5,
     "metadata": {},
     "output_type": "execute_result"
    }
   ],
   "source": [
    "start"
   ]
  },
  {
   "cell_type": "code",
   "execution_count": 6,
   "id": "b12e03f0-e54a-4e21-bcc8-8d8f2c9a5a03",
   "metadata": {},
   "outputs": [
    {
     "data": {
      "text/plain": [
       "datetime.datetime(2021, 11, 18, 5, 0)"
      ]
     },
     "execution_count": 6,
     "metadata": {},
     "output_type": "execute_result"
    }
   ],
   "source": [
    "end = datetime.datetime(now.year, now.month, now.day, 5,0,0)\n",
    "end"
   ]
  },
  {
   "cell_type": "code",
   "execution_count": 7,
   "id": "92ae0c42-c90a-442b-ba23-dddad46f16e6",
   "metadata": {},
   "outputs": [
    {
     "data": {
      "text/plain": [
       "datetime.timedelta(seconds=7200)"
      ]
     },
     "execution_count": 7,
     "metadata": {},
     "output_type": "execute_result"
    }
   ],
   "source": [
    "end-start"
   ]
  },
  {
   "cell_type": "code",
   "execution_count": 8,
   "id": "cd4948a1-e6a2-4ffd-bbc3-9f5305c8b1c2",
   "metadata": {},
   "outputs": [],
   "source": [
    "interval = datetime.timedelta(minutes=30)"
   ]
  },
  {
   "cell_type": "code",
   "execution_count": 9,
   "id": "7d80eef4-18cb-406a-bc92-f4c7992c9f27",
   "metadata": {},
   "outputs": [
    {
     "data": {
      "text/plain": [
       "4.0"
      ]
     },
     "execution_count": 9,
     "metadata": {},
     "output_type": "execute_result"
    }
   ],
   "source": [
    "(end-start)/interval"
   ]
  },
  {
   "cell_type": "code",
   "execution_count": 10,
   "id": "6e00d462-3248-4875-bb92-d9f613978e18",
   "metadata": {},
   "outputs": [],
   "source": [
    "import json"
   ]
  },
  {
   "cell_type": "code",
   "execution_count": 11,
   "id": "5f2f0527-5f99-42ec-a126-5dbbae0eb23a",
   "metadata": {},
   "outputs": [],
   "source": [
    "# https://stackoverflow.com/a/68926979/12291425\n",
    "from json import JSONEncoder\n",
    "def wrapped_default(self, obj):\n",
    "    return getattr(obj.__class__, \"__json__\", wrapped_default.default)(obj)\n",
    "wrapped_default.default = JSONEncoder().default\n",
    "   \n",
    "# apply the patch\n",
    "JSONEncoder.original_default = JSONEncoder.default\n",
    "JSONEncoder.default = wrapped_default"
   ]
  },
  {
   "cell_type": "code",
   "execution_count": 39,
   "id": "37b06e95-660e-4560-83dc-80c6bf904968",
   "metadata": {},
   "outputs": [],
   "source": [
    "class A:\n",
    "    def __init__(self,x,y,z=\"\"):\n",
    "        self.x =x\n",
    "        self.y=y\n",
    "        self.z=[]\n",
    "        for i in z:\n",
    "            self.z.append(B(**i))\n",
    "    def add(self,m):\n",
    "        self.z.append(m)\n",
    "        return self\n",
    "    def __json__(self,**options):\n",
    "        return self.__dict__\n",
    "    def __str__(self):\n",
    "        return str(self.__dict__)\n",
    "    def __repr__(self):\n",
    "        return str(self.__dict__)"
   ]
  },
  {
   "cell_type": "code",
   "execution_count": 40,
   "id": "363e5a24-641f-4fa5-b276-77a22a7bd708",
   "metadata": {},
   "outputs": [],
   "source": [
    "class B:\n",
    "    def __init__(self,a,b):\n",
    "        self.a=a\n",
    "        self.b=b\n",
    "    def __json__(self):\n",
    "        return self.__dict__\n",
    "    def __str__(self):\n",
    "        return str(self.__dict__)\n",
    "    def __repr__(self):\n",
    "        return str(self.__dict__)"
   ]
  },
  {
   "cell_type": "code",
   "execution_count": 41,
   "id": "8433ab1d-d9ad-4acc-8c48-a57bf2b73ce8",
   "metadata": {},
   "outputs": [],
   "source": [
    "a=A(1,2)"
   ]
  },
  {
   "cell_type": "code",
   "execution_count": 42,
   "id": "0fd9b094-14fc-42fe-a686-ad5043385237",
   "metadata": {},
   "outputs": [
    {
     "data": {
      "text/plain": [
       "{'x': 1, 'y': 2, 'z': [{'a': '/1', 'b': '/2'}]}"
      ]
     },
     "execution_count": 42,
     "metadata": {},
     "output_type": "execute_result"
    }
   ],
   "source": [
    "a.add(B(\"/1\",\"/2\"))"
   ]
  },
  {
   "cell_type": "code",
   "execution_count": 43,
   "id": "f799e702-d3e5-4e07-a9c9-08f405714766",
   "metadata": {},
   "outputs": [
    {
     "name": "stdout",
     "output_type": "stream",
     "text": [
      "{\n",
      "  \"x\": 1,\n",
      "  \"y\": 2,\n",
      "  \"z\": [\n",
      "    {\n",
      "      \"a\": \"/1\",\n",
      "      \"b\": \"/2\"\n",
      "    }\n",
      "  ]\n",
      "}\n"
     ]
    }
   ],
   "source": [
    "print(json.dumps(a,indent=2))"
   ]
  },
  {
   "cell_type": "code",
   "execution_count": 44,
   "id": "ece4a033-2601-47ad-9c2e-5b68d82737a7",
   "metadata": {},
   "outputs": [],
   "source": [
    "s = json.dumps(a,indent=2)"
   ]
  },
  {
   "cell_type": "code",
   "execution_count": 45,
   "id": "ca3af90b-6a91-4e80-874c-30c4447168c1",
   "metadata": {},
   "outputs": [
    {
     "data": {
      "text/plain": [
       "{'x': 1, 'y': 2, 'z': [{'a': '/1', 'b': '/2'}]}"
      ]
     },
     "execution_count": 45,
     "metadata": {},
     "output_type": "execute_result"
    }
   ],
   "source": [
    "json.loads(s)"
   ]
  },
  {
   "cell_type": "code",
   "execution_count": 46,
   "id": "857a72ae-7b00-4b6e-8765-c2226d62eff3",
   "metadata": {},
   "outputs": [
    {
     "data": {
      "text/plain": [
       "'{\"x\": 1, \"y\": 2, \"z\": [{\"a\": \"/1\", \"b\": \"/2\"}]}'"
      ]
     },
     "execution_count": 46,
     "metadata": {},
     "output_type": "execute_result"
    }
   ],
   "source": [
    "# https://stackoverflow.com/a/28352366/12291425\n",
    "json.dumps(A(**json.loads(s)))"
   ]
  },
  {
   "cell_type": "code",
   "execution_count": 47,
   "id": "79664d72-c85d-4473-b72b-0e8170972e02",
   "metadata": {},
   "outputs": [
    {
     "data": {
      "text/plain": [
       "{'x': 1, 'y': 2, 'z': [{'a': '/1', 'b': '/2'}]}"
      ]
     },
     "execution_count": 47,
     "metadata": {},
     "output_type": "execute_result"
    }
   ],
   "source": [
    "a.__dict__"
   ]
  },
  {
   "cell_type": "code",
   "execution_count": 48,
   "id": "d9dc82c2-c31f-4e9a-8fda-5656a7114bf5",
   "metadata": {},
   "outputs": [
    {
     "data": {
      "text/plain": [
       "\"{'x': 1, 'y': 2, 'z': [{'a': '/1', 'b': '/2'}]}\""
      ]
     },
     "execution_count": 48,
     "metadata": {},
     "output_type": "execute_result"
    }
   ],
   "source": [
    "str(a)"
   ]
  },
  {
   "cell_type": "code",
   "execution_count": 49,
   "id": "ce628c43-89f1-435e-9e72-ce133854c03d",
   "metadata": {},
   "outputs": [
    {
     "data": {
      "text/plain": [
       "[{'a': '/1', 'b': '/2'}]"
      ]
     },
     "execution_count": 49,
     "metadata": {},
     "output_type": "execute_result"
    }
   ],
   "source": [
    "a.z"
   ]
  },
  {
   "cell_type": "code",
   "execution_count": 50,
   "id": "ba65edf6-1e87-49cc-86a8-50cd1b7d5c88",
   "metadata": {},
   "outputs": [
    {
     "data": {
      "text/plain": [
       "\"{'a': '/1', 'b': '/2'}\""
      ]
     },
     "execution_count": 50,
     "metadata": {},
     "output_type": "execute_result"
    }
   ],
   "source": [
    "str(a.z[0])"
   ]
  },
  {
   "cell_type": "code",
   "execution_count": 51,
   "id": "050ecdab-f726-4bea-a839-279d00152465",
   "metadata": {},
   "outputs": [
    {
     "data": {
      "text/plain": [
       "\"[{'a': '/1', 'b': '/2'}]\""
      ]
     },
     "execution_count": 51,
     "metadata": {},
     "output_type": "execute_result"
    }
   ],
   "source": [
    "a.z.__str__()"
   ]
  },
  {
   "cell_type": "code",
   "execution_count": 52,
   "id": "6b8150a0-346f-4e44-89e8-5e02aa5965ad",
   "metadata": {},
   "outputs": [
    {
     "data": {
      "text/plain": [
       "{'a': '/1', 'b': '/2'}"
      ]
     },
     "execution_count": 52,
     "metadata": {},
     "output_type": "execute_result"
    }
   ],
   "source": [
    "a.z[0]"
   ]
  },
  {
   "cell_type": "code",
   "execution_count": null,
   "id": "3c08c1e0-dafa-4eeb-8edc-ee291c3d025c",
   "metadata": {},
   "outputs": [],
   "source": []
  }
 ],
 "metadata": {
  "kernelspec": {
   "display_name": "Python 3 (ipykernel)",
   "language": "python",
   "name": "python3"
  },
  "language_info": {
   "codemirror_mode": {
    "name": "ipython",
    "version": 3
   },
   "file_extension": ".py",
   "mimetype": "text/x-python",
   "name": "python",
   "nbconvert_exporter": "python",
   "pygments_lexer": "ipython3",
   "version": "3.9.7"
  }
 },
 "nbformat": 4,
 "nbformat_minor": 5
}
