{
 "cells": [
  {
   "cell_type": "code",
   "execution_count": 1,
   "id": "cc268df7-bc10-463f-9537-5d32285ff1a1",
   "metadata": {},
   "outputs": [],
   "source": [
    "import datetime"
   ]
  },
  {
   "cell_type": "code",
   "execution_count": 2,
   "id": "e5d57a76-f314-4a6a-bf1a-1535405b07e7",
   "metadata": {},
   "outputs": [],
   "source": [
    "now = datetime.datetime.now()"
   ]
  },
  {
   "cell_type": "code",
   "execution_count": 3,
   "id": "e2503f53-cddb-4271-802f-ec650c34bc66",
   "metadata": {},
   "outputs": [
    {
     "data": {
      "text/plain": [
       "datetime.datetime(2021, 11, 17, 14, 33, 41, 126426)"
      ]
     },
     "execution_count": 3,
     "metadata": {},
     "output_type": "execute_result"
    }
   ],
   "source": [
    "now"
   ]
  },
  {
   "cell_type": "code",
   "execution_count": 4,
   "id": "7707f5b3-4ad8-489d-96fb-79ea44b87f7b",
   "metadata": {},
   "outputs": [],
   "source": [
    "start = datetime.datetime(now.year, now.month, now.day, 3,0,0)"
   ]
  },
  {
   "cell_type": "code",
   "execution_count": 5,
   "id": "0005d575-d7da-4b7f-88cc-0d19f78ca41f",
   "metadata": {},
   "outputs": [
    {
     "data": {
      "text/plain": [
       "datetime.datetime(2021, 11, 17, 3, 0)"
      ]
     },
     "execution_count": 5,
     "metadata": {},
     "output_type": "execute_result"
    }
   ],
   "source": [
    "start"
   ]
  },
  {
   "cell_type": "code",
   "execution_count": 6,
   "id": "b12e03f0-e54a-4e21-bcc8-8d8f2c9a5a03",
   "metadata": {},
   "outputs": [
    {
     "data": {
      "text/plain": [
       "datetime.datetime(2021, 11, 17, 5, 0)"
      ]
     },
     "execution_count": 6,
     "metadata": {},
     "output_type": "execute_result"
    }
   ],
   "source": [
    "end = datetime.datetime(now.year, now.month, now.day, 5,0,0)\n",
    "end"
   ]
  },
  {
   "cell_type": "code",
   "execution_count": 7,
   "id": "92ae0c42-c90a-442b-ba23-dddad46f16e6",
   "metadata": {},
   "outputs": [
    {
     "data": {
      "text/plain": [
       "datetime.timedelta(seconds=7200)"
      ]
     },
     "execution_count": 7,
     "metadata": {},
     "output_type": "execute_result"
    }
   ],
   "source": [
    "end-start"
   ]
  },
  {
   "cell_type": "code",
   "execution_count": 8,
   "id": "cd4948a1-e6a2-4ffd-bbc3-9f5305c8b1c2",
   "metadata": {},
   "outputs": [],
   "source": [
    "interval = datetime.timedelta(minutes=30)"
   ]
  },
  {
   "cell_type": "code",
   "execution_count": 9,
   "id": "7d80eef4-18cb-406a-bc92-f4c7992c9f27",
   "metadata": {},
   "outputs": [
    {
     "data": {
      "text/plain": [
       "4.0"
      ]
     },
     "execution_count": 9,
     "metadata": {},
     "output_type": "execute_result"
    }
   ],
   "source": [
    "(end-start)/interval"
   ]
  },
  {
   "cell_type": "code",
   "execution_count": null,
   "id": "37b06e95-660e-4560-83dc-80c6bf904968",
   "metadata": {},
   "outputs": [],
   "source": []
  }
 ],
 "metadata": {
  "kernelspec": {
   "display_name": "Python 3 (ipykernel)",
   "language": "python",
   "name": "python3"
  },
  "language_info": {
   "codemirror_mode": {
    "name": "ipython",
    "version": 3
   },
   "file_extension": ".py",
   "mimetype": "text/x-python",
   "name": "python",
   "nbconvert_exporter": "python",
   "pygments_lexer": "ipython3",
   "version": "3.9.7"
  }
 },
 "nbformat": 4,
 "nbformat_minor": 5
}
